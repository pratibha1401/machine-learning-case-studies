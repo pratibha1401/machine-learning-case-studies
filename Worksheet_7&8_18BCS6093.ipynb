{
  "nbformat": 4,
  "nbformat_minor": 0,
  "metadata": {
    "kernelspec": {
      "display_name": "Python 3",
      "language": "python",
      "name": "python3"
    },
    "language_info": {
      "codemirror_mode": {
        "name": "ipython",
        "version": 3
      },
      "file_extension": ".py",
      "mimetype": "text/x-python",
      "name": "python",
      "nbconvert_exporter": "python",
      "pygments_lexer": "ipython3",
      "version": "3.7.0"
    },
    "colab": {
      "name": "Worksheet 7&8 18BCS6093.ipynb",
      "provenance": []
    }
  },
  "cells": [
    {
      "cell_type": "code",
      "metadata": {
        "id": "BBrwfrKcvsoX"
      },
      "source": [
        "import warnings\n",
        "warnings.filterwarnings(\"ignore\")\n",
        "import pandas as pd\n",
        "import matplotlib.pyplot as plt\n",
        "import seaborn as sns\n",
        "%matplotlib inline"
      ],
      "execution_count": null,
      "outputs": []
    },
    {
      "cell_type": "code",
      "metadata": {
        "id": "RmtgDvEOvsoa"
      },
      "source": [
        "train=pd.read_csv('Training_Set.csv')\n",
        "validation=pd.read_csv('Validation_Set.csv')"
      ],
      "execution_count": null,
      "outputs": []
    },
    {
      "cell_type": "code",
      "metadata": {
        "id": "muxNmJDGvsob",
        "outputId": "80d9409c-b3b4-4ef7-9149-82954702feb3"
      },
      "source": [
        "train.columns"
      ],
      "execution_count": null,
      "outputs": [
        {
          "output_type": "execute_result",
          "data": {
            "text/plain": [
              "Index(['Attribute 1 (a1)', 'Attribute 2 (a2)', 'Class Label'], dtype='object')"
            ]
          },
          "metadata": {
            "tags": []
          },
          "execution_count": 3
        }
      ]
    },
    {
      "cell_type": "code",
      "metadata": {
        "id": "oU3rRe7pvsoc",
        "outputId": "5e962e0b-01d7-46ac-89b0-8b0d6e744d28"
      },
      "source": [
        "train['Attribute 1 (a1)'].value_counts()"
      ],
      "execution_count": null,
      "outputs": [
        {
          "output_type": "execute_result",
          "data": {
            "text/plain": [
              "12    5\n",
              "10    5\n",
              "8     5\n",
              "6     5\n",
              "4     5\n",
              "2     5\n",
              "Name: Attribute 1 (a1), dtype: int64"
            ]
          },
          "metadata": {
            "tags": []
          },
          "execution_count": 4
        }
      ]
    },
    {
      "cell_type": "code",
      "metadata": {
        "id": "AfAJBF_Ovsod",
        "outputId": "ef8f1ca2-cf9c-4039-b453-f499781f0493"
      },
      "source": [
        "train['Attribute 2 (a2)'].value_counts()"
      ],
      "execution_count": null,
      "outputs": [
        {
          "output_type": "execute_result",
          "data": {
            "text/plain": [
              "27    6\n",
              "15    6\n",
              "13    6\n",
              "11    6\n",
              "39    6\n",
              "Name: Attribute 2 (a2), dtype: int64"
            ]
          },
          "metadata": {
            "tags": []
          },
          "execution_count": 5
        }
      ]
    },
    {
      "cell_type": "code",
      "metadata": {
        "id": "pusY68pdvsoe",
        "outputId": "0fc9a0f6-6597-472c-a8de-5f1c9d595ca6"
      },
      "source": [
        "train['Class Label'].value_counts()"
      ],
      "execution_count": null,
      "outputs": [
        {
          "output_type": "execute_result",
          "data": {
            "text/plain": [
              "2    15\n",
              "1    15\n",
              "Name: Class Label, dtype: int64"
            ]
          },
          "metadata": {
            "tags": []
          },
          "execution_count": 6
        }
      ]
    },
    {
      "cell_type": "code",
      "metadata": {
        "id": "Vz-8xDYSvsof"
      },
      "source": [
        "train['Class Label']=train['Class Label'].astype('category')"
      ],
      "execution_count": null,
      "outputs": []
    },
    {
      "cell_type": "code",
      "metadata": {
        "scrolled": true,
        "id": "es0pyB5jvsof",
        "outputId": "00e24139-95f9-4255-cd6f-213b77f6baf8"
      },
      "source": [
        "validation.head()"
      ],
      "execution_count": null,
      "outputs": [
        {
          "output_type": "execute_result",
          "data": {
            "text/html": [
              "<div>\n",
              "<style scoped>\n",
              "    .dataframe tbody tr th:only-of-type {\n",
              "        vertical-align: middle;\n",
              "    }\n",
              "\n",
              "    .dataframe tbody tr th {\n",
              "        vertical-align: top;\n",
              "    }\n",
              "\n",
              "    .dataframe thead th {\n",
              "        text-align: right;\n",
              "    }\n",
              "</style>\n",
              "<table border=\"1\" class=\"dataframe\">\n",
              "  <thead>\n",
              "    <tr style=\"text-align: right;\">\n",
              "      <th></th>\n",
              "      <th>Attribute 1 (a1)</th>\n",
              "      <th>Attribute 2 (a2)</th>\n",
              "      <th>True Class Label</th>\n",
              "      <th>Class Label as predicted by the decision tree</th>\n",
              "      <th>Unnamed: 4</th>\n",
              "      <th>Unnamed: 5</th>\n",
              "      <th>Unnamed: 6</th>\n",
              "    </tr>\n",
              "  </thead>\n",
              "  <tbody>\n",
              "    <tr>\n",
              "      <th>0</th>\n",
              "      <td>2</td>\n",
              "      <td>35</td>\n",
              "      <td>1</td>\n",
              "      <td>1</td>\n",
              "      <td>NaN</td>\n",
              "      <td>NaN</td>\n",
              "      <td>NaN</td>\n",
              "    </tr>\n",
              "    <tr>\n",
              "      <th>1</th>\n",
              "      <td>12</td>\n",
              "      <td>13</td>\n",
              "      <td>2</td>\n",
              "      <td>1</td>\n",
              "      <td>NaN</td>\n",
              "      <td>NaN</td>\n",
              "      <td>NaN</td>\n",
              "    </tr>\n",
              "    <tr>\n",
              "      <th>2</th>\n",
              "      <td>-4</td>\n",
              "      <td>45</td>\n",
              "      <td>2</td>\n",
              "      <td>2</td>\n",
              "      <td>NaN</td>\n",
              "      <td>NaN</td>\n",
              "      <td>NaN</td>\n",
              "    </tr>\n",
              "    <tr>\n",
              "      <th>3</th>\n",
              "      <td>2</td>\n",
              "      <td>17</td>\n",
              "      <td>2</td>\n",
              "      <td>2</td>\n",
              "      <td>NaN</td>\n",
              "      <td>NaN</td>\n",
              "      <td>NaN</td>\n",
              "    </tr>\n",
              "  </tbody>\n",
              "</table>\n",
              "</div>"
            ],
            "text/plain": [
              "   Attribute 1 (a1)  Attribute 2 (a2)  True Class Label  \\\n",
              "0                 2                35                 1   \n",
              "1                12                13                 2   \n",
              "2                -4                45                 2   \n",
              "3                 2                17                 2   \n",
              "\n",
              "   Class Label as predicted by the decision tree  Unnamed: 4  Unnamed: 5  \\\n",
              "0                                              1         NaN         NaN   \n",
              "1                                              1         NaN         NaN   \n",
              "2                                              2         NaN         NaN   \n",
              "3                                              2         NaN         NaN   \n",
              "\n",
              "   Unnamed: 6  \n",
              "0         NaN  \n",
              "1         NaN  \n",
              "2         NaN  \n",
              "3         NaN  "
            ]
          },
          "metadata": {
            "tags": []
          },
          "execution_count": 8
        }
      ]
    },
    {
      "cell_type": "code",
      "metadata": {
        "id": "auTCOG8Avsog",
        "outputId": "56b49abe-53dc-4029-c596-eba3abb5de39"
      },
      "source": [
        "validation.columns"
      ],
      "execution_count": null,
      "outputs": [
        {
          "output_type": "execute_result",
          "data": {
            "text/plain": [
              "Index(['Attribute 1 (a1)', 'Attribute 2 (a2)', 'True Class Label',\n",
              "       'Class Label as predicted by the decision tree', 'Unnamed: 4',\n",
              "       'Unnamed: 5', 'Unnamed: 6'],\n",
              "      dtype='object')"
            ]
          },
          "metadata": {
            "tags": []
          },
          "execution_count": 9
        }
      ]
    },
    {
      "cell_type": "code",
      "metadata": {
        "id": "UYKSYCv8vsoh"
      },
      "source": [
        "validation=validation[['Attribute 1 (a1)', 'Attribute 2 (a2)', 'True Class Label',\n",
        "       'Class Label as predicted by the decision tree']]"
      ],
      "execution_count": null,
      "outputs": []
    },
    {
      "cell_type": "code",
      "metadata": {
        "id": "8nOLLvjPvsoh",
        "outputId": "a63675dc-2dd9-478e-852f-ff43c7f3cbcd"
      },
      "source": [
        "validation.head(10)"
      ],
      "execution_count": null,
      "outputs": [
        {
          "output_type": "execute_result",
          "data": {
            "text/html": [
              "<div>\n",
              "<style scoped>\n",
              "    .dataframe tbody tr th:only-of-type {\n",
              "        vertical-align: middle;\n",
              "    }\n",
              "\n",
              "    .dataframe tbody tr th {\n",
              "        vertical-align: top;\n",
              "    }\n",
              "\n",
              "    .dataframe thead th {\n",
              "        text-align: right;\n",
              "    }\n",
              "</style>\n",
              "<table border=\"1\" class=\"dataframe\">\n",
              "  <thead>\n",
              "    <tr style=\"text-align: right;\">\n",
              "      <th></th>\n",
              "      <th>Attribute 1 (a1)</th>\n",
              "      <th>Attribute 2 (a2)</th>\n",
              "      <th>True Class Label</th>\n",
              "      <th>Class Label as predicted by the decision tree</th>\n",
              "    </tr>\n",
              "  </thead>\n",
              "  <tbody>\n",
              "    <tr>\n",
              "      <th>0</th>\n",
              "      <td>2</td>\n",
              "      <td>35</td>\n",
              "      <td>1</td>\n",
              "      <td>1</td>\n",
              "    </tr>\n",
              "    <tr>\n",
              "      <th>1</th>\n",
              "      <td>12</td>\n",
              "      <td>13</td>\n",
              "      <td>2</td>\n",
              "      <td>1</td>\n",
              "    </tr>\n",
              "    <tr>\n",
              "      <th>2</th>\n",
              "      <td>-4</td>\n",
              "      <td>45</td>\n",
              "      <td>2</td>\n",
              "      <td>2</td>\n",
              "    </tr>\n",
              "    <tr>\n",
              "      <th>3</th>\n",
              "      <td>2</td>\n",
              "      <td>17</td>\n",
              "      <td>2</td>\n",
              "      <td>2</td>\n",
              "    </tr>\n",
              "  </tbody>\n",
              "</table>\n",
              "</div>"
            ],
            "text/plain": [
              "   Attribute 1 (a1)  Attribute 2 (a2)  True Class Label  \\\n",
              "0                 2                35                 1   \n",
              "1                12                13                 2   \n",
              "2                -4                45                 2   \n",
              "3                 2                17                 2   \n",
              "\n",
              "   Class Label as predicted by the decision tree  \n",
              "0                                              1  \n",
              "1                                              1  \n",
              "2                                              2  \n",
              "3                                              2  "
            ]
          },
          "metadata": {
            "tags": []
          },
          "execution_count": 11
        }
      ]
    },
    {
      "cell_type": "code",
      "metadata": {
        "id": "vWbrLjoPvsoi"
      },
      "source": [
        "VTEST=validation[['Attribute 1 (a1)', 'Attribute 2 (a2)']]\n",
        "True_class_label=validation['True Class Label']\n",
        "Predicted_class_label=validation[['Class Label as predicted by the decision tree']]"
      ],
      "execution_count": null,
      "outputs": []
    },
    {
      "cell_type": "code",
      "metadata": {
        "id": "38czbbluvsoi",
        "outputId": "9dfefa2c-947b-43c6-8c73-ff585c8ff581"
      },
      "source": [
        "VTEST.head()"
      ],
      "execution_count": null,
      "outputs": [
        {
          "output_type": "execute_result",
          "data": {
            "text/html": [
              "<div>\n",
              "<style scoped>\n",
              "    .dataframe tbody tr th:only-of-type {\n",
              "        vertical-align: middle;\n",
              "    }\n",
              "\n",
              "    .dataframe tbody tr th {\n",
              "        vertical-align: top;\n",
              "    }\n",
              "\n",
              "    .dataframe thead th {\n",
              "        text-align: right;\n",
              "    }\n",
              "</style>\n",
              "<table border=\"1\" class=\"dataframe\">\n",
              "  <thead>\n",
              "    <tr style=\"text-align: right;\">\n",
              "      <th></th>\n",
              "      <th>Attribute 1 (a1)</th>\n",
              "      <th>Attribute 2 (a2)</th>\n",
              "    </tr>\n",
              "  </thead>\n",
              "  <tbody>\n",
              "    <tr>\n",
              "      <th>0</th>\n",
              "      <td>2</td>\n",
              "      <td>35</td>\n",
              "    </tr>\n",
              "    <tr>\n",
              "      <th>1</th>\n",
              "      <td>12</td>\n",
              "      <td>13</td>\n",
              "    </tr>\n",
              "    <tr>\n",
              "      <th>2</th>\n",
              "      <td>-4</td>\n",
              "      <td>45</td>\n",
              "    </tr>\n",
              "    <tr>\n",
              "      <th>3</th>\n",
              "      <td>2</td>\n",
              "      <td>17</td>\n",
              "    </tr>\n",
              "  </tbody>\n",
              "</table>\n",
              "</div>"
            ],
            "text/plain": [
              "   Attribute 1 (a1)  Attribute 2 (a2)\n",
              "0                 2                35\n",
              "1                12                13\n",
              "2                -4                45\n",
              "3                 2                17"
            ]
          },
          "metadata": {
            "tags": []
          },
          "execution_count": 13
        }
      ]
    },
    {
      "cell_type": "code",
      "metadata": {
        "id": "rpdJVl9Evsoj",
        "outputId": "96e9fb1c-dae0-4049-b0bf-6d406de05c5f"
      },
      "source": [
        "train.info()"
      ],
      "execution_count": null,
      "outputs": [
        {
          "output_type": "stream",
          "text": [
            "<class 'pandas.core.frame.DataFrame'>\n",
            "RangeIndex: 30 entries, 0 to 29\n",
            "Data columns (total 3 columns):\n",
            " #   Column            Non-Null Count  Dtype   \n",
            "---  ------            --------------  -----   \n",
            " 0   Attribute 1 (a1)  30 non-null     int64   \n",
            " 1   Attribute 2 (a2)  30 non-null     int64   \n",
            " 2   Class Label       30 non-null     category\n",
            "dtypes: category(1), int64(2)\n",
            "memory usage: 734.0 bytes\n"
          ],
          "name": "stdout"
        }
      ]
    },
    {
      "cell_type": "code",
      "metadata": {
        "id": "VLFWCb1-vsok"
      },
      "source": [
        "\n",
        "X = train.drop('Class Label',axis=1)\n",
        "\n",
        "Y = train['Class Label']\n"
      ],
      "execution_count": null,
      "outputs": []
    },
    {
      "cell_type": "code",
      "metadata": {
        "id": "oduWvQPcvsok",
        "outputId": "57d5c78b-9f34-4370-c8a2-0c968c292382"
      },
      "source": [
        "\n",
        "from sklearn.tree import DecisionTreeClassifier\n",
        "\n",
        "\n",
        "dt_default = DecisionTreeClassifier(max_depth=20,min_samples_split = 10,min_samples_leaf = 5,criterion='gini')\n",
        "dt_default.fit(X, Y)"
      ],
      "execution_count": null,
      "outputs": [
        {
          "output_type": "execute_result",
          "data": {
            "text/plain": [
              "DecisionTreeClassifier(max_depth=20, min_samples_leaf=5, min_samples_split=10)"
            ]
          },
          "metadata": {
            "tags": []
          },
          "execution_count": 16
        }
      ]
    },
    {
      "cell_type": "code",
      "metadata": {
        "id": "YjEJD5dEvsol",
        "outputId": "508623c0-2d21-4cdf-a6e2-b8167222f5d2"
      },
      "source": [
        "\n",
        "from sklearn.metrics import classification_report, confusion_matrix, accuracy_score\n",
        "\n",
        "y_pred_default = dt_default.predict(VTEST)\n",
        "\n",
        "print(classification_report(True_class_label, y_pred_default))"
      ],
      "execution_count": null,
      "outputs": [
        {
          "output_type": "stream",
          "text": [
            "              precision    recall  f1-score   support\n",
            "\n",
            "           1       0.00      0.00      0.00         1\n",
            "           2       0.50      0.33      0.40         3\n",
            "\n",
            "    accuracy                           0.25         4\n",
            "   macro avg       0.25      0.17      0.20         4\n",
            "weighted avg       0.38      0.25      0.30         4\n",
            "\n"
          ],
          "name": "stdout"
        }
      ]
    },
    {
      "cell_type": "code",
      "metadata": {
        "id": "oCoGyBM6vsol",
        "outputId": "1d5f1ade-856c-4b4e-e932-808fa786133a"
      },
      "source": [
        "\n",
        "print(confusion_matrix(True_class_label, y_pred_default))\n",
        "print(accuracy_score(True_class_label, y_pred_default))"
      ],
      "execution_count": null,
      "outputs": [
        {
          "output_type": "stream",
          "text": [
            "[[0 1]\n",
            " [2 1]]\n",
            "0.25\n"
          ],
          "name": "stdout"
        }
      ]
    },
    {
      "cell_type": "code",
      "metadata": {
        "id": "7C_8QO8Qvsom"
      },
      "source": [
        "\n",
        "from IPython.display import Image  \n",
        "from six import StringIO  \n",
        "from sklearn.tree import export_graphviz\n",
        "import pydotplus, graphviz"
      ],
      "execution_count": null,
      "outputs": []
    },
    {
      "cell_type": "code",
      "metadata": {
        "id": "37oeVcsQvson",
        "outputId": "7a1e3932-63db-4678-a21a-97abe4d6a098"
      },
      "source": [
        "\n",
        "features = list(train.columns[:-1])\n",
        "features"
      ],
      "execution_count": null,
      "outputs": [
        {
          "output_type": "execute_result",
          "data": {
            "text/plain": [
              "['Attribute 1 (a1)', 'Attribute 2 (a2)']"
            ]
          },
          "metadata": {
            "tags": []
          },
          "execution_count": 20
        }
      ]
    },
    {
      "cell_type": "code",
      "metadata": {
        "id": "F7V3O6HJvson"
      },
      "source": [
        "import os\n",
        "os.environ[\"PATH\"] += os.pathsep + 'C:/Program Files (x86)/graphviz/bin/'"
      ],
      "execution_count": null,
      "outputs": []
    },
    {
      "cell_type": "code",
      "metadata": {
        "id": "wz7llYBVvsoo",
        "outputId": "7a65457b-40cc-4403-c058-1854ae70de6f"
      },
      "source": [
        "dot_data = StringIO()  \n",
        "export_graphviz(dt_default, out_file=dot_data,\n",
        "                feature_names=features, filled=True,rounded=True)\n",
        "\n",
        "graph = pydotplus.graph_from_dot_data(dot_data.getvalue())  \n",
        "Image(graph.create_png())"
      ],
      "execution_count": null,
      "outputs": [
        {
          "output_type": "execute_result",
          "data": {
            "image/png": "[encoded data removed]",
            "text/plain": [
              "<IPython.core.display.Image object>"
            ]
          },
          "metadata": {
            "tags": []
          },
          "execution_count": 22
        }
      ]
    }
  ]
}