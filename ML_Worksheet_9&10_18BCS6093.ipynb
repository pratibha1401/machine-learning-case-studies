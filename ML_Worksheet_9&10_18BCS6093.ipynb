{
  "nbformat": 4,
  "nbformat_minor": 0,
  "metadata": {
    "kernelspec": {
      "display_name": "Python 3",
      "language": "python",
      "name": "python3"
    },
    "language_info": {
      "codemirror_mode": {
        "name": "ipython",
        "version": 3
      },
      "file_extension": ".py",
      "mimetype": "text/x-python",
      "name": "python",
      "nbconvert_exporter": "python",
      "pygments_lexer": "ipython3",
      "version": "3.7.4"
    },
    "colab": {
      "name": "ML Worksheet 9&10 18BCS6093.ipynb",
      "provenance": []
    }
  },
  "cells": [
    {
      "cell_type": "code",
      "metadata": {
        "id": "lpyZ-tqvvaJY"
      },
      "source": [
        "import pandas as pd\n",
        "import matplotlib.pyplot as plt\n",
        "import seaborn as sns\n",
        "from sklearn.preprocessing import scale\n",
        "from sklearn.cluster import KMeans\n",
        "from scipy.cluster.hierarchy import linkage\n",
        "from scipy.cluster.hierarchy import dendrogram\n",
        "from scipy.cluster.hierarchy import cut_tree\n"
      ],
      "execution_count": null,
      "outputs": []
    },
    {
      "cell_type": "code",
      "metadata": {
        "id": "nEXG0he6vaJb"
      },
      "source": [
        "i = pd.read_csv(r'C:\\Users\\lenovo\\Downloads\\Cricket.csv', sep = ',', encoding = \"ISO-8859-1\", header = 0)"
      ],
      "execution_count": null,
      "outputs": []
    },
    {
      "cell_type": "code",
      "metadata": {
        "id": "2DwB3OO6vaJc",
        "outputId": "935fbfea-392f-47ff-db84-4d373467314c"
      },
      "source": [
        "i.shape"
      ],
      "execution_count": null,
      "outputs": [
        {
          "output_type": "execute_result",
          "data": {
            "text/plain": [
              "(79, 13)"
            ]
          },
          "metadata": {
            "tags": []
          },
          "execution_count": 3
        }
      ]
    },
    {
      "cell_type": "code",
      "metadata": {
        "id": "TUjmYMVpvaJd",
        "outputId": "cc5eb6d9-32ae-4cbc-b037-37804a90d0f8"
      },
      "source": [
        "i.info()"
      ],
      "execution_count": null,
      "outputs": [
        {
          "output_type": "stream",
          "text": [
            "<class 'pandas.core.frame.DataFrame'>\n",
            "RangeIndex: 79 entries, 0 to 78\n",
            "Data columns (total 13 columns):\n",
            "Player    79 non-null object\n",
            "Span      79 non-null object\n",
            "Mat       79 non-null int64\n",
            "Inns      79 non-null int64\n",
            "NO        79 non-null int64\n",
            "Runs      79 non-null int64\n",
            "HS        79 non-null object\n",
            "Ave       79 non-null float64\n",
            "BF        79 non-null int64\n",
            "SR        79 non-null float64\n",
            "100       79 non-null int64\n",
            "50        79 non-null int64\n",
            "0         79 non-null int64\n",
            "dtypes: float64(2), int64(8), object(3)\n",
            "memory usage: 8.1+ KB\n"
          ],
          "name": "stdout"
        }
      ]
    },
    {
      "cell_type": "code",
      "metadata": {
        "id": "VVx6c_F4vaJe",
        "outputId": "bb021baa-0eae-4d5e-ac03-29c7d07bda9a"
      },
      "source": [
        "i.isna().mean().round()*100"
      ],
      "execution_count": null,
      "outputs": [
        {
          "output_type": "execute_result",
          "data": {
            "text/plain": [
              "Player    0.0\n",
              "Span      0.0\n",
              "Mat       0.0\n",
              "Inns      0.0\n",
              "NO        0.0\n",
              "Runs      0.0\n",
              "HS        0.0\n",
              "Ave       0.0\n",
              "BF        0.0\n",
              "SR        0.0\n",
              "100       0.0\n",
              "50        0.0\n",
              "0         0.0\n",
              "dtype: float64"
            ]
          },
          "metadata": {
            "tags": []
          },
          "execution_count": 5
        }
      ]
    },
    {
      "cell_type": "code",
      "metadata": {
        "id": "1_-K6ry1vaJe"
      },
      "source": [
        "col = ['Ave', 'SR']\n",
        "i = i[col].astype(float)"
      ],
      "execution_count": null,
      "outputs": []
    },
    {
      "cell_type": "code",
      "metadata": {
        "id": "QsVEHO4UvaJf"
      },
      "source": [
        "from sklearn.preprocessing import StandardScaler\n",
        "standard_scaler = StandardScaler()\n",
        "\n",
        "i = standard_scaler.fit_transform(i)\n",
        "i = pd.DataFrame(i)"
      ],
      "execution_count": null,
      "outputs": []
    },
    {
      "cell_type": "code",
      "metadata": {
        "id": "irkhcXOuvaJf"
      },
      "source": [
        "from sklearn.neighbors import NearestNeighbors\n",
        "from random import sample\n",
        "from numpy.random import uniform\n",
        "import numpy as np\n",
        "from math import isnan\n",
        "\n",
        "def hopkins(X):\n",
        "    d = X.shape[1]\n",
        "    n = len(X)\n",
        "    m = int(0.1*n)\n",
        "    nbrs = NearestNeighbors(n_neighbors = 1).fit(X.values)\n",
        "    \n",
        "    rand_X = sample(range(0,n,1),m)\n",
        "    \n",
        "    ujd = []\n",
        "    wjd = []\n",
        "    for j in range(0,m):\n",
        "        u_dist, _ = nbrs.kneighbors(uniform(np.amax(X, axis = 0),d).reshape(1, -1), 2, return_distance = True)\n",
        "        ujd.append(u_dist[0][1])\n",
        "        w_dist, _ = nbrs.kneighbors(X.iloc[rand_X[j]].values.reshape(1, -1), 2, return_distance = True)\n",
        "        wjd.append(w_dist[0][1])\n",
        "    H = sum(ujd) / (sum(ujd)+ sum(wjd))\n",
        "    if isnan(H):\n",
        "        print(ujd, wjd)\n",
        "        H-8\n",
        "    return H"
      ],
      "execution_count": null,
      "outputs": []
    },
    {
      "cell_type": "code",
      "metadata": {
        "id": "LzvyTabUvaJg",
        "outputId": "19607ac2-1d7a-4409-84e7-ac2f22e65deb"
      },
      "source": [
        "hopkins(i)"
      ],
      "execution_count": null,
      "outputs": [
        {
          "output_type": "execute_result",
          "data": {
            "text/plain": [
              "0.8945155836094004"
            ]
          },
          "metadata": {
            "tags": []
          },
          "execution_count": 9
        }
      ]
    },
    {
      "cell_type": "code",
      "metadata": {
        "id": "qhzKidbIvaJg",
        "outputId": "9932487a-49b9-4630-a70a-a7990fa0f169"
      },
      "source": [
        "clus5 = KMeans(n_clusters = 5, max_iter = 50)\n",
        "clus5.fit(i)"
      ],
      "execution_count": null,
      "outputs": [
        {
          "output_type": "execute_result",
          "data": {
            "text/plain": [
              "KMeans(algorithm='auto', copy_x=True, init='k-means++', max_iter=50,\n",
              "       n_clusters=5, n_init=10, n_jobs=None, precompute_distances='auto',\n",
              "       random_state=None, tol=0.0001, verbose=0)"
            ]
          },
          "metadata": {
            "tags": []
          },
          "execution_count": 10
        }
      ]
    },
    {
      "cell_type": "code",
      "metadata": {
        "id": "HLztlg-hvaJh"
      },
      "source": [
        "from sklearn.metrics import silhouette_score\n",
        "sse_ = []\n",
        "for k in range(2,15):\n",
        "    kmeans = KMeans(n_clusters = k, random_state = 100).fit(i)\n",
        "    sse_.append([k, silhouette_score(i, kmeans.labels_)])"
      ],
      "execution_count": null,
      "outputs": []
    },
    {
      "cell_type": "code",
      "metadata": {
        "id": "Nt8xxyjGvaJh",
        "outputId": "e8196e26-907d-40e7-8137-e9cf22ff24f0"
      },
      "source": [
        "plt.plot(pd.DataFrame(sse_)[0], pd.DataFrame(sse_)[1])"
      ],
      "execution_count": null,
      "outputs": [
        {
          "output_type": "execute_result",
          "data": {
            "text/plain": [
              "[<matplotlib.lines.Line2D at 0x207f39217c8>]"
            ]
          },
          "metadata": {
            "tags": []
          },
          "execution_count": 12
        },
        {
          "output_type": "display_data",
          "data": {
            "image/png": "[encoded data removed]",
            "text/plain": [
              "<Figure size 432x288 with 1 Axes>"
            ]
          },
          "metadata": {
            "tags": [],
            "needs_background": "light"
          }
        }
      ]
    },
    {
      "cell_type": "code",
      "metadata": {
        "id": "FnqEA98hvaJi",
        "outputId": "43fb6548-3aa9-4134-98fc-2b829fe28710"
      },
      "source": [
        "#sum of squared distances\n",
        "ssd = []\n",
        "for num_clusters in list(range(1,21)):\n",
        "    model_clus = KMeans(n_clusters = num_clusters, max_iter = 50)\n",
        "    model_clus.fit(i)\n",
        "    ssd.append(model_clus.inertia_)\n",
        "    \n",
        "plt.plot(ssd)"
      ],
      "execution_count": null,
      "outputs": [
        {
          "output_type": "execute_result",
          "data": {
            "text/plain": [
              "[<matplotlib.lines.Line2D at 0x207f39c8cc8>]"
            ]
          },
          "metadata": {
            "tags": []
          },
          "execution_count": 13
        },
        {
          "output_type": "display_data",
          "data": {
            "image/png": "[encoded data removed]",
            "text/plain": [
              "<Figure size 432x288 with 1 Axes>"
            ]
          },
          "metadata": {
            "tags": [],
            "needs_background": "light"
          }
        }
      ]
    },
    {
      "cell_type": "code",
      "metadata": {
        "id": "DUzsVNLlvaJi"
      },
      "source": [
        ""
      ],
      "execution_count": null,
      "outputs": []
    },
    {
      "cell_type": "code",
      "metadata": {
        "id": "_S8buP8EvaJj"
      },
      "source": [
        ""
      ],
      "execution_count": null,
      "outputs": []
    }
  ]
}